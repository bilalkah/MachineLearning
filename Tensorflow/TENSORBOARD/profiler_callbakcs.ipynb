{
 "metadata": {
  "language_info": {
   "codemirror_mode": {
    "name": "ipython",
    "version": 3
   },
   "file_extension": ".py",
   "mimetype": "text/x-python",
   "name": "python",
   "nbconvert_exporter": "python",
   "pygments_lexer": "ipython3",
   "version": "3.8.8"
  },
  "orig_nbformat": 2,
  "kernelspec": {
   "name": "python388jvsc74a57bd09234dd0daa5fefa7cd0996fc36abe392d35ad2a439b2c265e442f2a80177fe29",
   "display_name": "Python 3.8.8 64-bit ('tf-gpu': conda)"
  }
 },
 "nbformat": 4,
 "nbformat_minor": 2,
 "cells": [
  {
   "cell_type": "code",
   "execution_count": 57,
   "metadata": {},
   "outputs": [],
   "source": [
    "from datetime import datetime\n",
    "from packaging import version\n",
    "\n",
    "import os"
   ]
  },
  {
   "cell_type": "code",
   "execution_count": 58,
   "metadata": {},
   "outputs": [
    {
     "output_type": "stream",
     "name": "stdout",
     "text": [
      "Tensorflow version:  2.4.1\n"
     ]
    }
   ],
   "source": [
    "import tensorflow as tf\n",
    "print(\"Tensorflow version: \",tf.__version__)"
   ]
  },
  {
   "cell_type": "code",
   "execution_count": 59,
   "metadata": {},
   "outputs": [
    {
     "output_type": "stream",
     "name": "stdout",
     "text": [
      "Found GPU at: /device:GPU:0\n"
     ]
    }
   ],
   "source": [
    "device_name = tf.test.gpu_device_name()\n",
    "if not device_name:\n",
    "    raise SystemError(\"GPU device not found\")\n",
    "print(\"Found GPU at: {}\".format(device_name))"
   ]
  },
  {
   "cell_type": "code",
   "execution_count": 60,
   "metadata": {},
   "outputs": [],
   "source": [
    "import tensorflow_datasets as tfds"
   ]
  },
  {
   "cell_type": "code",
   "execution_count": 61,
   "metadata": {},
   "outputs": [],
   "source": [
    "(ds_train, ds_test), ds_info = tfds.load(\n",
    "    \"mnist\",\n",
    "    split = ['train','test'],\n",
    "    shuffle_files = True,\n",
    "    as_supervised = True,\n",
    "    with_info = True,\n",
    ")"
   ]
  },
  {
   "cell_type": "code",
   "execution_count": 62,
   "metadata": {},
   "outputs": [],
   "source": [
    "def normalize_img(image, label):\n",
    "    \"\"\"\" Normalizes images: uint8 -> float32 \"\"\"\n",
    "    return tf.cast(image, tf.float32) / 255., label\n",
    "\n",
    "AUTOTUNE = tf.data.experimental.AUTOTUNE\n",
    "ds_train = ds_train.map(normalize_img,num_parallel_calls=AUTOTUNE).cache()\n",
    "ds_train = ds_train.batch(128).prefetch(AUTOTUNE)\n",
    "\n",
    "ds_test = ds_test.map(normalize_img,num_parallel_calls=AUTOTUNE).cache()\n",
    "ds_test = ds_test.batch(128).prefetch(AUTOTUNE)"
   ]
  },
  {
   "cell_type": "code",
   "execution_count": 63,
   "metadata": {},
   "outputs": [],
   "source": [
    "model = tf.keras.models.Sequential([\n",
    "    tf.keras.layers.Flatten(input_shape=(28,28,1)),\n",
    "    tf.keras.layers.Dense(128, activation='relu'),\n",
    "    tf.keras.layers.Dense(10, activation='softmax'),\n",
    "])\n",
    "\n",
    "model.compile(\n",
    "    loss = 'sparse_categorical_crossentropy',\n",
    "    optimizer = tf.keras.optimizers.Adam(0.001),\n",
    "    metrics = [\"accuracy\"],\n",
    ")"
   ]
  },
  {
   "cell_type": "code",
   "execution_count": 64,
   "metadata": {},
   "outputs": [
    {
     "output_type": "stream",
     "name": "stdout",
     "text": [
      "Epoch 1/2\n",
      "469/469 [==============================] - 3s 6ms/step - loss: 0.6142 - accuracy: 0.8323 - val_loss: 0.1902 - val_accuracy: 0.9463\n",
      "Epoch 2/2\n",
      "469/469 [==============================] - 3s 7ms/step - loss: 0.1759 - accuracy: 0.9500 - val_loss: 0.1372 - val_accuracy: 0.9601\n"
     ]
    },
    {
     "output_type": "execute_result",
     "data": {
      "text/plain": [
       "<tensorflow.python.keras.callbacks.History at 0x24509191f70>"
      ]
     },
     "metadata": {},
     "execution_count": 64
    }
   ],
   "source": [
    "logs = \"kayi/\"+datetime.now().strftime(\"%Y%m%d-%H%M%S\")\n",
    "\n",
    "tboard_callback = tf.keras.callbacks.TensorBoard(\n",
    "    log_dir = logs,\n",
    "    histogram_freq = 1,\n",
    "    profile_batch = '500,520'\n",
    ")\n",
    "\n",
    "model.fit(ds_train,epochs=2,validation_data=ds_test,callbacks = [tboard_callback])"
   ]
  }
 ]
}