{
 "cells": [
  {
   "cell_type": "code",
   "execution_count": 1,
   "id": "dominant-saturn",
   "metadata": {},
   "outputs": [],
   "source": [
    "import numpy as np\n",
    "from sklearn.model_selection import train_test_split\n",
    "from keras import Sequential, models\n",
    "from keras.layers import Dense\n",
    "from keras.losses import MeanSquaredLogarithmicError\n",
    "from keras.optimizers import RMSprop"
   ]
  },
  {
   "cell_type": "code",
   "execution_count": 7,
   "id": "activated-attention",
   "metadata": {},
   "outputs": [],
   "source": [
    "#Prepare dataset\n",
    "n_sample = 10000\n",
    "X = np.array([[0,0,0],[0,0,1],[0,1,0],[0,1,1],[1,0,0],[1,0,1],[1,1,0],[1,1,1]]*n_sample,dtype='float32')\n",
    "Y = np.array([[0,0],[0,1],[0,1],[1,0],[0,1],[1,0],[1,0],[1,1]]*n_sample,dtype='float32')\n",
    "x_train, x_test, y_train, y_test = train_test_split(X,Y,test_size=0.1,shuffle=True)"
   ]
  },
  {
   "cell_type": "code",
   "execution_count": 9,
   "id": "imperial-summer",
   "metadata": {},
   "outputs": [
    {
     "name": "stdout",
     "output_type": "stream",
     "text": [
      "[1. 0. 1.]\n",
      "[1. 0.]\n"
     ]
    }
   ],
   "source": [
    "#sample of dataset\n",
    "print(x_train[503])\n",
    "print(y_train[503])"
   ]
  },
  {
   "cell_type": "code",
   "execution_count": 10,
   "id": "static-energy",
   "metadata": {},
   "outputs": [
    {
     "name": "stdout",
     "output_type": "stream",
     "text": [
      "Model: \"sequential\"\n",
      "_________________________________________________________________\n",
      "Layer (type)                 Output Shape              Param #   \n",
      "=================================================================\n",
      "dense (Dense)                (None, 3)                 12        \n",
      "_________________________________________________________________\n",
      "dense_1 (Dense)              (None, 2)                 8         \n",
      "=================================================================\n",
      "Total params: 20\n",
      "Trainable params: 20\n",
      "Non-trainable params: 0\n",
      "_________________________________________________________________\n"
     ]
    }
   ],
   "source": [
    "#model creation\n",
    "model = Sequential()\n",
    "model.add(Dense(units=3,activation='tanh',input_shape=(3,)))\n",
    "model.add(Dense(units=2,activation='sigmoid'))\n",
    "model.summary()"
   ]
  },
  {
   "cell_type": "code",
   "execution_count": 11,
   "id": "atmospheric-miller",
   "metadata": {},
   "outputs": [],
   "source": [
    "model.compile(loss=MeanSquaredLogarithmicError(),optimizer=RMSprop(learning_rate=0.0001,momentum=0.9),metrics=['accuracy'])"
   ]
  },
  {
   "cell_type": "code",
   "execution_count": 12,
   "id": "fleet-schema",
   "metadata": {},
   "outputs": [
    {
     "name": "stdout",
     "output_type": "stream",
     "text": [
      "Epoch 1/5\n",
      "2250/2250 [==============================] - 6s 2ms/step - loss: 0.1037 - accuracy: 0.7003\n",
      "Epoch 2/5\n",
      "2250/2250 [==============================] - 5s 2ms/step - loss: 0.0548 - accuracy: 0.8739\n",
      "Epoch 3/5\n",
      "2250/2250 [==============================] - 5s 2ms/step - loss: 0.0408 - accuracy: 0.8741\n",
      "Epoch 4/5\n",
      "2250/2250 [==============================] - 5s 2ms/step - loss: 0.0260 - accuracy: 0.8752\n",
      "Epoch 5/5\n",
      "2250/2250 [==============================] - 5s 2ms/step - loss: 0.0150 - accuracy: 0.8748\n"
     ]
    }
   ],
   "source": [
    "#train model\n",
    "history=model.fit(x_train,y_train,batch_size=32,epochs=5)"
   ]
  },
  {
   "cell_type": "code",
   "execution_count": 13,
   "id": "common-knowing",
   "metadata": {},
   "outputs": [
    {
     "name": "stdout",
     "output_type": "stream",
     "text": [
      "250/250 [==============================] - 1s 2ms/step - loss: 0.0093 - accuracy: 0.8821\n"
     ]
    }
   ],
   "source": [
    "test_history=model.evaluate(x_test,y_test,verbose=1)"
   ]
  },
  {
   "cell_type": "code",
   "execution_count": 14,
   "id": "north-tolerance",
   "metadata": {},
   "outputs": [
    {
     "name": "stdout",
     "output_type": "stream",
     "text": [
      "[[1. 0.]]\n"
     ]
    }
   ],
   "source": [
    "print(np.around(model.predict([[0,1,1]])))"
   ]
  },
  {
   "cell_type": "code",
   "execution_count": 15,
   "id": "soviet-aspect",
   "metadata": {},
   "outputs": [
    {
     "name": "stdout",
     "output_type": "stream",
     "text": [
      "[[0. 1.]]\n"
     ]
    }
   ],
   "source": [
    "print(np.around(model.predict([[0,1,0]])))"
   ]
  },
  {
   "cell_type": "code",
   "execution_count": 16,
   "id": "ahead-vacuum",
   "metadata": {},
   "outputs": [
    {
     "name": "stdout",
     "output_type": "stream",
     "text": [
      "[[0. 1.]]\n"
     ]
    }
   ],
   "source": [
    "print(np.around(model.predict([[0,0,1]])))"
   ]
  },
  {
   "cell_type": "code",
   "execution_count": 17,
   "id": "latter-northern",
   "metadata": {},
   "outputs": [
    {
     "name": "stdout",
     "output_type": "stream",
     "text": [
      "[[1. 1.]]\n"
     ]
    }
   ],
   "source": [
    "print(np.around(model.predict([[1,1,1]])))"
   ]
  },
  {
   "cell_type": "code",
   "execution_count": 18,
   "id": "respected-wright",
   "metadata": {},
   "outputs": [],
   "source": [
    "from random import randint"
   ]
  },
  {
   "cell_type": "code",
   "execution_count": 97,
   "id": "defined-preservation",
   "metadata": {},
   "outputs": [
    {
     "name": "stdout",
     "output_type": "stream",
     "text": [
      "[27] [71]\n"
     ]
    }
   ],
   "source": [
    "max_digit = 8\n",
    "number_A = np.array([randint(0,pow(2,max_digit)/2)],dtype='uint8')\n",
    "number_B = np.array([randint(0,pow(2,max_digit)/2)],dtype='uint8')\n",
    "print(number_A,number_B)"
   ]
  },
  {
   "cell_type": "code",
   "execution_count": 98,
   "id": "touched-remains",
   "metadata": {},
   "outputs": [
    {
     "name": "stdout",
     "output_type": "stream",
     "text": [
      "[0 0 0 1 1 0 1 1] [0 1 0 0 0 1 1 1]\n"
     ]
    }
   ],
   "source": [
    "binary_A = np.unpackbits(number_A,axis=0)\n",
    "binary_B = np.unpackbits(number_B,axis=0)\n",
    "print(binary_A,binary_B)"
   ]
  },
  {
   "cell_type": "code",
   "execution_count": 99,
   "id": "crazy-childhood",
   "metadata": {},
   "outputs": [
    {
     "name": "stdout",
     "output_type": "stream",
     "text": [
      "[1 1 0 1 1 0 0 0] [1 1 1 0 0 0 1 0]\n"
     ]
    }
   ],
   "source": [
    "binary_A = np.flip(binary_A)\n",
    "binary_B = np.flip(binary_B)\n",
    "print(binary_A,binary_B)"
   ]
  },
  {
   "cell_type": "code",
   "execution_count": 100,
   "id": "unavailable-smoke",
   "metadata": {},
   "outputs": [
    {
     "name": "stdout",
     "output_type": "stream",
     "text": [
      "[[0. 1. 1.]] [[1. 0.]]\n",
      "[[1. 1. 1.]] [[1. 1.]]\n",
      "[[1. 0. 1.]] [[1. 0.]]\n",
      "[[1. 1. 0.]] [[1. 0.]]\n",
      "[[1. 1. 0.]] [[1. 0.]]\n",
      "[[1. 0. 0.]] [[0. 1.]]\n",
      "[[0. 0. 1.]] [[0. 1.]]\n",
      "[[0. 0. 0.]] [[0. 0.]]\n"
     ]
    }
   ],
   "source": [
    "binary_C = np.zeros(shape=(max_digit,),dtype='uint8')\n",
    "carry=0\n",
    "for i in range(max_digit):\n",
    "    carry_a_b = np.array([[carry,binary_A[i],binary_B[i]]],dtype='float32')\n",
    "    out = model.predict(carry_a_b)\n",
    "    carry=out[0][0]\n",
    "    binary_C[i]=np.uint8(np.around(out[0][1]))\n",
    "    print(np.around(carry_a_b),np.around(out))"
   ]
  },
  {
   "cell_type": "code",
   "execution_count": 101,
   "id": "supreme-runner",
   "metadata": {},
   "outputs": [
    {
     "name": "stdout",
     "output_type": "stream",
     "text": [
      "[0 1 1 0 0 0 1 0]\n",
      "[98]\n"
     ]
    }
   ],
   "source": [
    "binary_C = np.flip(binary_C)\n",
    "number_C = np.packbits(binary_C)\n",
    "print(binary_C)\n",
    "print(number_C)"
   ]
  }
 ],
 "metadata": {
  "kernelspec": {
   "display_name": "Python 3",
   "language": "python",
   "name": "python3"
  },
  "language_info": {
   "codemirror_mode": {
    "name": "ipython",
    "version": 3
   },
   "file_extension": ".py",
   "mimetype": "text/x-python",
   "name": "python",
   "nbconvert_exporter": "python",
   "pygments_lexer": "ipython3",
   "version": "3.8.0"
  }
 },
 "nbformat": 4,
 "nbformat_minor": 5
}
