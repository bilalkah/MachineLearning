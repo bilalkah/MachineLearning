{
 "cells": [
  {
   "cell_type": "code",
   "execution_count": 153,
   "id": "bibliographic-conference",
   "metadata": {},
   "outputs": [],
   "source": [
    "import numpy as np\n",
    "from sklearn.model_selection import train_test_split\n",
    "from keras import Sequential, models\n",
    "from keras.layers import Dense\n",
    "from keras.losses import MeanSquaredError,MeanSquaredLogarithmicError,CosineSimilarity\n",
    "from keras.optimizers import Adam,RMSprop,Ftrl,SGD"
   ]
  },
  {
   "cell_type": "code",
   "execution_count": 154,
   "id": "fitted-registrar",
   "metadata": {},
   "outputs": [],
   "source": [
    "n_sample = 10000\n",
    "X = np.array([[0,0],[0,1],[1,0],[1,1]]*n_sample,dtype='float32')\n",
    "Y = np.array([[0,0],[0,1],[0,1],[1,0]]*n_sample,dtype='float32')\n",
    "x_train, x_test, y_train, y_test = train_test_split(X,Y,test_size=0.1,shuffle=True)"
   ]
  },
  {
   "cell_type": "code",
   "execution_count": 155,
   "id": "framed-uncle",
   "metadata": {},
   "outputs": [
    {
     "name": "stdout",
     "output_type": "stream",
     "text": [
      "[0. 1.]\n",
      "[0. 1.]\n"
     ]
    }
   ],
   "source": [
    "print(x_train[502])\n",
    "print(y_train[502])"
   ]
  },
  {
   "cell_type": "code",
   "execution_count": 156,
   "id": "described-rainbow",
   "metadata": {},
   "outputs": [
    {
     "name": "stdout",
     "output_type": "stream",
     "text": [
      "Model: \"sequential_16\"\n",
      "_________________________________________________________________\n",
      "Layer (type)                 Output Shape              Param #   \n",
      "=================================================================\n",
      "dense_30 (Dense)             (None, 3)                 9         \n",
      "_________________________________________________________________\n",
      "dense_31 (Dense)             (None, 2)                 8         \n",
      "=================================================================\n",
      "Total params: 17\n",
      "Trainable params: 17\n",
      "Non-trainable params: 0\n",
      "_________________________________________________________________\n"
     ]
    }
   ],
   "source": [
    "model = Sequential()\n",
    "model.add(Dense(units=3,activation='tanh',input_shape=(2,)))\n",
    "model.add(Dense(units=2,activation='sigmoid'))\n",
    "model.summary()"
   ]
  },
  {
   "cell_type": "code",
   "execution_count": 157,
   "id": "controversial-outdoors",
   "metadata": {},
   "outputs": [],
   "source": [
    "model.compile(loss=MeanSquaredLogarithmicError(),optimizer=RMSprop(learning_rate=0.0001,momentum=0.9),metrics=['accuracy'])"
   ]
  },
  {
   "cell_type": "code",
   "execution_count": 158,
   "id": "attended-dispatch",
   "metadata": {},
   "outputs": [
    {
     "name": "stdout",
     "output_type": "stream",
     "text": [
      "Epoch 1/5\n",
      "1125/1125 [==============================] - 3s 3ms/step - loss: 0.1196 - accuracy: 0.5203\n",
      "Epoch 2/5\n",
      "1125/1125 [==============================] - 3s 2ms/step - loss: 0.0768 - accuracy: 0.5820\n",
      "Epoch 3/5\n",
      "1125/1125 [==============================] - 3s 2ms/step - loss: 0.0471 - accuracy: 0.7543\n",
      "Epoch 4/5\n",
      "1125/1125 [==============================] - 3s 2ms/step - loss: 0.0163 - accuracy: 0.7519\n",
      "Epoch 5/5\n",
      "1125/1125 [==============================] - 2s 2ms/step - loss: 0.0033 - accuracy: 0.7505\n"
     ]
    }
   ],
   "source": [
    "history=model.fit(x_train,y_train,batch_size=32,epochs=5)"
   ]
  },
  {
   "cell_type": "code",
   "execution_count": 159,
   "id": "historical-america",
   "metadata": {},
   "outputs": [
    {
     "name": "stdout",
     "output_type": "stream",
     "text": [
      "125/125 [==============================] - 0s 2ms/step - loss: 8.4558e-04 - accuracy: 0.7383\n"
     ]
    }
   ],
   "source": [
    "test_history = model.evaluate(x_test,y_test,verbose=1)"
   ]
  },
  {
   "cell_type": "code",
   "execution_count": 160,
   "id": "provincial-wound",
   "metadata": {},
   "outputs": [
    {
     "name": "stdout",
     "output_type": "stream",
     "text": [
      "[[0. 1.]]\n"
     ]
    }
   ],
   "source": [
    "print(np.around(model.predict([[0,1]])))"
   ]
  },
  {
   "cell_type": "code",
   "execution_count": 161,
   "id": "bronze-leather",
   "metadata": {},
   "outputs": [
    {
     "name": "stdout",
     "output_type": "stream",
     "text": [
      "[[1. 0.]]\n"
     ]
    }
   ],
   "source": [
    "print(np.around(model.predict([[1,1]])))"
   ]
  },
  {
   "cell_type": "code",
   "execution_count": 162,
   "id": "twelve-cannon",
   "metadata": {},
   "outputs": [
    {
     "name": "stdout",
     "output_type": "stream",
     "text": [
      "[[0. 1.]]\n"
     ]
    }
   ],
   "source": [
    "print(np.around(model.predict([[1,0]])))"
   ]
  },
  {
   "cell_type": "code",
   "execution_count": 163,
   "id": "valuable-publicity",
   "metadata": {},
   "outputs": [
    {
     "name": "stdout",
     "output_type": "stream",
     "text": [
      "[[0. 0.]]\n"
     ]
    }
   ],
   "source": [
    "print(np.around(model.predict([[0,0]])))"
   ]
  },
  {
   "cell_type": "code",
   "execution_count": 164,
   "id": "independent-hierarchy",
   "metadata": {},
   "outputs": [
    {
     "name": "stdout",
     "output_type": "stream",
     "text": [
      "1/1 - 0s - loss: 8.4873e-04 - accuracy: 0.0000e+00\n"
     ]
    },
    {
     "data": {
      "text/plain": [
       "[0.0008487306185998023, 0.0]"
      ]
     },
     "execution_count": 164,
     "metadata": {},
     "output_type": "execute_result"
    }
   ],
   "source": [
    "model.evaluate([[0,0]],[[0,0]],verbose=2)"
   ]
  }
 ],
 "metadata": {
  "kernelspec": {
   "display_name": "Python 3",
   "language": "python",
   "name": "python3"
  },
  "language_info": {
   "codemirror_mode": {
    "name": "ipython",
    "version": 3
   },
   "file_extension": ".py",
   "mimetype": "text/x-python",
   "name": "python",
   "nbconvert_exporter": "python",
   "pygments_lexer": "ipython3",
   "version": "3.8.0"
  }
 },
 "nbformat": 4,
 "nbformat_minor": 5
}
